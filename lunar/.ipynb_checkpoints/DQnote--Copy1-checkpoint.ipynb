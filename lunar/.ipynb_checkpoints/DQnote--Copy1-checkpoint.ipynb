{
 "cells": [
  {
   "cell_type": "code",
   "execution_count": 2,
   "metadata": {},
   "outputs": [
    {
     "name": "stdout",
     "output_type": "stream",
     "text": [
      "*****************\n",
      "[PhysicalDevice(name='/physical_device:GPU:0', device_type='GPU')]\n",
      "*****************\n"
     ]
    }
   ],
   "source": [
    "\n",
    "import os\n",
    "import matplotlib.pyplot as plt\n",
    "%matplotlib inline\n",
    "# os.environ[\"CUDA_VISIBLE_DEVICES\"]=\"-1\"\n",
    "import gym\n",
    "from gym.wrappers import Monitor\n",
    "import glob\n",
    "import io\n",
    "import base64\n",
    "# from pyvirtualdisplay import Display\n",
    "\n",
    "from gym import wrappers\n",
    "from IPython import display\n",
    "import matplotlib\n",
    "import matplotlib.pyplot as plt\n",
    "import gym\n",
    "import numpy as np\n",
    "from collections import deque\n",
    "import tensorflow as tf\n",
    "from tensorflow.keras import layers,models\n",
    "import os\n",
    "from tensorflow.keras import backend as K\n",
    "%matplotlib inline\n",
    "tf.config.experimental_run_functions_eagerly(True)\n",
    "gpus = tf.config.experimental.list_physical_devices('GPU')\n",
    "# for gpu in gpus:\n",
    "#     tf.config.experimental.set_memory_growth(gpu, True)\n",
    "# strategy = tf.distribute.MirroredStrategy()\n",
    "\n",
    "print(\"*****************\")\n",
    "print(gpus)\n",
    "print(\"*****************\")\n",
    "\n",
    "import matplotlib.animation as animation"
   ]
  },
  {
   "cell_type": "code",
   "execution_count": 34,
   "metadata": {},
   "outputs": [],
   "source": [
    "MEMORYLEN=int(1e5)\n",
    "MEMORYLEN=int(10000)\n",
    "BATCHSIZE=64\n",
    "EPOCHS=1\n",
    "# UPDATE_EVERY = 4\n",
    "\n",
    "\n",
    "class DQNAgent():\n",
    "    def __init__(self,actions=4,obs=8):\n",
    "        self.actions=actions\n",
    "        self.observations=obs\n",
    "        self.model=self.load_model()\n",
    "        self.target_model=self.load_model()\n",
    "        \n",
    "        self.copy_weights()\n",
    "\n",
    "        self.memory=deque(maxlen=MEMORYLEN)\n",
    "        self.gamma=0.99\n",
    "        self.patience=0\n",
    "        \n",
    "           \n",
    "    def play(self,observation,epsilon):\n",
    "        if (len(self.memory)<BATCHSIZE):\n",
    "            \n",
    "            action=np.random.randint(low=0,high=self.actions)\n",
    "            return action\n",
    "        else:\n",
    "            if np.random.random()>epsilon:\n",
    "#                 print(\"model\")\n",
    "                action=self.model_predictions(observation)\n",
    "            else:\n",
    "                action=np.random.randint(low=0,high=self.actions)\n",
    "            return action\n",
    "            \n",
    "    def step(self,state, action, reward, next_state, done):\n",
    "        self.memory.append([state, action, reward, next_state, done])\n",
    "        if ((len(self.memory)>=BATCHSIZE) ):\n",
    "            self.train_model()\n",
    "        pass\n",
    " \n",
    "    \n",
    "    def train_model(self):\n",
    "        \n",
    "        rnd_indices = np.random.choice(len(self.memory), size=BATCHSIZE)\n",
    "        data=np.array(self.memory)[rnd_indices]\n",
    "        np.random.shuffle(data)\n",
    "        \n",
    "        state, action, reward, next_state, done=np.stack(data[:,0]),np.stack(data[:,1]),np.stack(data[:,2]),np.stack(data[:,3]),np.stack(data[:,4])\n",
    "        qnext_max=np.max(self.target_model.predict(next_state),axis=1)\n",
    "        qnext_max=reward+ self.gamma*qnext_max*(1-done)\n",
    "        qtable_to_update=self.target_model.predict(state)\n",
    "        for indx,qs in enumerate(qtable_to_update):\n",
    "            qtable_to_update[indx,action[indx]]=qnext_max[indx]\n",
    "        self.model.fit(state,qtable_to_update,epochs=1,verbose=0)\n",
    "        self.patience+=1\n",
    "        if self.patience==10:\n",
    "            self.copy_weights()\n",
    "            self.patience=0\n",
    "        \n",
    "        pass\n",
    "    def model_predictions(self,observation):\n",
    "        pred=self.model.predict(observation.reshape(1,-1))\n",
    "        pred=np.argmax(pred)\n",
    "        return pred\n",
    "        \n",
    "    def load_model(self):\n",
    "        num_input = layers.Input(shape=(self.observations, ))\n",
    "        x = layers.Dense(64,activation=\"relu\")(num_input)\n",
    "#         x = layers.BatchNormalization()(x)\n",
    "#         x = layers.Dropout(0.1)(x)\n",
    "        x = layers.Dense(32, activation=\"relu\")(x)\n",
    "#         x = layers.Dropout(0.1)(x)\n",
    "#         x = layers.BatchNormalization()(x)\n",
    "        y = layers.Dense(self.actions, activation=\"linear\")(x)\n",
    "        model = models.Model(inputs=num_input, outputs=y)\n",
    "        model.compile(loss=\"mse\",optimizer=tf.keras.optimizers.Adam(lr=0.001,decay=0.001))\n",
    "        model.summary()\n",
    "        return model\n",
    "    def copy_weights(self):\n",
    "        self.target_model.set_weights(self.model.get_weights()) "
   ]
  },
  {
   "cell_type": "code",
   "execution_count": 35,
   "metadata": {},
   "outputs": [],
   "source": [
    "import matplotlib.animation as animation\n",
    "# import matplotlib.pyplot as plt\n",
    "# %matplotlib inline\n",
    "def gen_gif(agent,fname):\n",
    "    env = gym.make('LunarLander-v2')\n",
    "    # env = gym.wrappers.Monitor(env,\"/anotherdrive/projects/gym/lunar/notefiles/test\",force=True)\n",
    "    action_space = env.action_space.n\n",
    "    observation_space = env.observation_space.shape[0]\n",
    "\n",
    "    scores = []\n",
    "\n",
    "    rewards=[]\n",
    "\n",
    "    state = env.reset()\n",
    "    cum_reward = 0\n",
    "    frames = []\n",
    "    fig = plt.figure()\n",
    "  \n",
    "    while True:\n",
    "        f=plt.imshow(env.render(mode = 'rgb_array'),animated=True)\n",
    "        frames.append([f])\n",
    "\n",
    "    #         q_values = agent.get_q(obs)\n",
    "        action = agent.play(state,0)\n",
    "\n",
    "        obs, reward, done, _ = env.step(action)\n",
    "    #             print(t,action,reward)\n",
    "        cum_reward += reward\n",
    "    #     print(reward)\n",
    "        rewards.append(reward)\n",
    "    #     print(done)\n",
    "        if done:\n",
    "            break\n",
    "    scores.append(cum_reward)\n",
    "    env.close()\n",
    "    print(cum_reward)    \n",
    "    ani = animation.ArtistAnimation(fig, frames, interval=200, blit=True,\n",
    "                                repeat_delay=0)\n",
    "\n",
    "    ani.save('/anotherdrive/projects/gym/lunar/dqnote/gifs/lunar_{}_.gif'.format(fname),writer=\"PillowWriter\")\n",
    "    plt.close()\n",
    "#     plt.show()"
   ]
  },
  {
   "cell_type": "code",
   "execution_count": 36,
   "metadata": {},
   "outputs": [],
   "source": [
    "# import os\n",
    "# os.getcwd()"
   ]
  },
  {
   "cell_type": "code",
   "execution_count": null,
   "metadata": {},
   "outputs": [
    {
     "name": "stdout",
     "output_type": "stream",
     "text": [
      "Model: \"model_8\"\n",
      "_________________________________________________________________\n",
      "Layer (type)                 Output Shape              Param #   \n",
      "=================================================================\n",
      "input_9 (InputLayer)         [(None, 8)]               0         \n",
      "_________________________________________________________________\n",
      "dense_24 (Dense)             (None, 64)                576       \n",
      "_________________________________________________________________\n",
      "dense_25 (Dense)             (None, 32)                2080      \n",
      "_________________________________________________________________\n",
      "dense_26 (Dense)             (None, 4)                 132       \n",
      "=================================================================\n",
      "Total params: 2,788\n",
      "Trainable params: 2,788\n",
      "Non-trainable params: 0\n",
      "_________________________________________________________________\n",
      "Model: \"model_9\"\n",
      "_________________________________________________________________\n",
      "Layer (type)                 Output Shape              Param #   \n",
      "=================================================================\n",
      "input_10 (InputLayer)        [(None, 8)]               0         \n",
      "_________________________________________________________________\n",
      "dense_27 (Dense)             (None, 64)                576       \n",
      "_________________________________________________________________\n",
      "dense_28 (Dense)             (None, 32)                2080      \n",
      "_________________________________________________________________\n",
      "dense_29 (Dense)             (None, 4)                 132       \n",
      "=================================================================\n",
      "Total params: 2,788\n",
      "Trainable params: 2,788\n",
      "Non-trainable params: 0\n",
      "_________________________________________________________________\n",
      "new best_score: -91.85797836366409\n",
      "-521.306545377661\n"
     ]
    },
    {
     "name": "stderr",
     "output_type": "stream",
     "text": [
      "MovieWriter PillowWriter unavailable; trying to use <class 'matplotlib.animation.PillowWriter'> instead.\n"
     ]
    },
    {
     "name": "stdout",
     "output_type": "stream",
     "text": [
      "new best_score: -90.63648187067602\n",
      "-451.5750132036145\n"
     ]
    },
    {
     "name": "stderr",
     "output_type": "stream",
     "text": [
      "MovieWriter PillowWriter unavailable; trying to use <class 'matplotlib.animation.PillowWriter'> instead.\n"
     ]
    },
    {
     "name": "stdout",
     "output_type": "stream",
     "text": [
      "new best_score: -78.64406209342292\n",
      "-408.00297490831736\n"
     ]
    },
    {
     "name": "stderr",
     "output_type": "stream",
     "text": [
      "MovieWriter PillowWriter unavailable; trying to use <class 'matplotlib.animation.PillowWriter'> instead.\n"
     ]
    },
    {
     "name": "stdout",
     "output_type": "stream",
     "text": [
      "Episode 10\tAverage Score: -117.17 Epsilon: 0.9511101304657719\n",
      "Episode 20\tAverage Score: -107.39 Epsilon: 0.9046104802746175\n",
      "Episode 30\tAverage Score: -98.38 Epsilon: 0.8603841919146962\n",
      "Episode 40\tAverage Score: -97.10 Epsilon: 0.8183201210226743\n",
      "Episode 50\tAverage Score: -90.90 Epsilon: 0.778312557068642\n",
      "Episode 60\tAverage Score: -83.41 Epsilon: 0.7402609576967045\n",
      "Episode 70\tAverage Score: -81.36 Epsilon: 0.7040696960536299\n",
      "new best_score: -77.95581737761937\n",
      "-481.67477697738093\n"
     ]
    },
    {
     "name": "stderr",
     "output_type": "stream",
     "text": [
      "MovieWriter PillowWriter unavailable; trying to use <class 'matplotlib.animation.PillowWriter'> instead.\n"
     ]
    },
    {
     "name": "stdout",
     "output_type": "stream",
     "text": [
      "Episode 80\tAverage Score: -77.77 Epsilon: 0.6696478204705644\n",
      "new best_score: -77.77208058629326\n",
      "-448.2973397172224\n"
     ]
    },
    {
     "name": "stderr",
     "output_type": "stream",
     "text": [
      "MovieWriter PillowWriter unavailable; trying to use <class 'matplotlib.animation.PillowWriter'> instead.\n"
     ]
    },
    {
     "name": "stdout",
     "output_type": "stream",
     "text": [
      "new best_score: -77.61876720058672\n",
      "-653.1491497291337\n"
     ]
    },
    {
     "name": "stderr",
     "output_type": "stream",
     "text": [
      "MovieWriter PillowWriter unavailable; trying to use <class 'matplotlib.animation.PillowWriter'> instead.\n"
     ]
    },
    {
     "name": "stdout",
     "output_type": "stream",
     "text": [
      "new best_score: -76.51064279391888\n",
      "-698.9603709244506\n"
     ]
    },
    {
     "name": "stderr",
     "output_type": "stream",
     "text": [
      "MovieWriter PillowWriter unavailable; trying to use <class 'matplotlib.animation.PillowWriter'> instead.\n"
     ]
    },
    {
     "name": "stdout",
     "output_type": "stream",
     "text": [
      "new best_score: -76.1394064413735\n",
      "-505.69466885810346\n"
     ]
    },
    {
     "name": "stderr",
     "output_type": "stream",
     "text": [
      "MovieWriter PillowWriter unavailable; trying to use <class 'matplotlib.animation.PillowWriter'> instead.\n"
     ]
    },
    {
     "name": "stdout",
     "output_type": "stream",
     "text": [
      "new best_score: -75.58400179466076\n",
      "-587.6474924709692\n"
     ]
    },
    {
     "name": "stderr",
     "output_type": "stream",
     "text": [
      "MovieWriter PillowWriter unavailable; trying to use <class 'matplotlib.animation.PillowWriter'> instead.\n"
     ]
    },
    {
     "name": "stdout",
     "output_type": "stream",
     "text": [
      "new best_score: -74.97862086875459\n",
      "-858.6785402339856\n"
     ]
    },
    {
     "name": "stderr",
     "output_type": "stream",
     "text": [
      "MovieWriter PillowWriter unavailable; trying to use <class 'matplotlib.animation.PillowWriter'> instead.\n"
     ]
    },
    {
     "name": "stdout",
     "output_type": "stream",
     "text": [
      "new best_score: -73.88476299313724\n",
      "-496.9237140700527\n"
     ]
    },
    {
     "name": "stderr",
     "output_type": "stream",
     "text": [
      "MovieWriter PillowWriter unavailable; trying to use <class 'matplotlib.animation.PillowWriter'> instead.\n"
     ]
    },
    {
     "name": "stdout",
     "output_type": "stream",
     "text": [
      "new best_score: -72.75916215262284\n",
      "-2431.193354190705\n"
     ]
    },
    {
     "name": "stderr",
     "output_type": "stream",
     "text": [
      "MovieWriter PillowWriter unavailable; trying to use <class 'matplotlib.animation.PillowWriter'> instead.\n"
     ]
    },
    {
     "name": "stdout",
     "output_type": "stream",
     "text": [
      "new best_score: -71.71331716434025\n",
      "-482.3689994030901\n"
     ]
    },
    {
     "name": "stderr",
     "output_type": "stream",
     "text": [
      "MovieWriter PillowWriter unavailable; trying to use <class 'matplotlib.animation.PillowWriter'> instead.\n"
     ]
    },
    {
     "name": "stdout",
     "output_type": "stream",
     "text": [
      "new best_score: -71.04921827777703\n",
      "-827.9462369614643\n"
     ]
    },
    {
     "name": "stderr",
     "output_type": "stream",
     "text": [
      "MovieWriter PillowWriter unavailable; trying to use <class 'matplotlib.animation.PillowWriter'> instead.\n"
     ]
    },
    {
     "name": "stdout",
     "output_type": "stream",
     "text": [
      "Episode 90\tAverage Score: -70.43 Epsilon: 0.6369088258938781\n",
      "new best_score: -70.42880943184127\n",
      "-786.9728658040437\n"
     ]
    },
    {
     "name": "stderr",
     "output_type": "stream",
     "text": [
      "MovieWriter PillowWriter unavailable; trying to use <class 'matplotlib.animation.PillowWriter'> instead.\n"
     ]
    },
    {
     "name": "stdout",
     "output_type": "stream",
     "text": [
      "new best_score: -69.56835219559726\n",
      "-740.1790608006328\n"
     ]
    },
    {
     "name": "stderr",
     "output_type": "stream",
     "text": [
      "MovieWriter PillowWriter unavailable; trying to use <class 'matplotlib.animation.PillowWriter'> instead.\n"
     ]
    },
    {
     "name": "stdout",
     "output_type": "stream",
     "text": [
      "new best_score: -68.50584609428456\n",
      "-799.1760096586444\n"
     ]
    },
    {
     "name": "stderr",
     "output_type": "stream",
     "text": [
      "MovieWriter PillowWriter unavailable; trying to use <class 'matplotlib.animation.PillowWriter'> instead.\n"
     ]
    },
    {
     "name": "stdout",
     "output_type": "stream",
     "text": [
      "new best_score: -67.59436147173028\n",
      "-728.6411566610776\n"
     ]
    },
    {
     "name": "stderr",
     "output_type": "stream",
     "text": [
      "MovieWriter PillowWriter unavailable; trying to use <class 'matplotlib.animation.PillowWriter'> instead.\n"
     ]
    },
    {
     "name": "stdout",
     "output_type": "stream",
     "text": [
      "new best_score: -66.75708112862968\n",
      "-850.1504727241776\n"
     ]
    },
    {
     "name": "stderr",
     "output_type": "stream",
     "text": [
      "MovieWriter PillowWriter unavailable; trying to use <class 'matplotlib.animation.PillowWriter'> instead.\n"
     ]
    },
    {
     "name": "stdout",
     "output_type": "stream",
     "text": [
      "new best_score: -65.90787560381122\n",
      "-415.18841115815735\n"
     ]
    },
    {
     "name": "stderr",
     "output_type": "stream",
     "text": [
      "MovieWriter PillowWriter unavailable; trying to use <class 'matplotlib.animation.PillowWriter'> instead.\n"
     ]
    },
    {
     "name": "stdout",
     "output_type": "stream",
     "text": [
      "new best_score: -64.89275865374752\n",
      "-612.9657750822782\n"
     ]
    },
    {
     "name": "stderr",
     "output_type": "stream",
     "text": [
      "MovieWriter PillowWriter unavailable; trying to use <class 'matplotlib.animation.PillowWriter'> instead.\n"
     ]
    },
    {
     "name": "stdout",
     "output_type": "stream",
     "text": [
      "Episode 100\tAverage Score: -65.24 Epsilon: 0.6057704364907278\n",
      "new best_score: -64.61254096315314\n",
      "-625.50881362465\n"
     ]
    },
    {
     "name": "stderr",
     "output_type": "stream",
     "text": [
      "MovieWriter PillowWriter unavailable; trying to use <class 'matplotlib.animation.PillowWriter'> instead.\n"
     ]
    },
    {
     "name": "stdout",
     "output_type": "stream",
     "text": [
      "new best_score: -63.641641513046736\n",
      "-985.9798913524941\n"
     ]
    },
    {
     "name": "stderr",
     "output_type": "stream",
     "text": [
      "MovieWriter PillowWriter unavailable; trying to use <class 'matplotlib.animation.PillowWriter'> instead.\n"
     ]
    },
    {
     "name": "stdout",
     "output_type": "stream",
     "text": [
      "new best_score: -63.21695088492652\n",
      "-780.6858024932598\n"
     ]
    },
    {
     "name": "stderr",
     "output_type": "stream",
     "text": [
      "MovieWriter PillowWriter unavailable; trying to use <class 'matplotlib.animation.PillowWriter'> instead.\n"
     ]
    },
    {
     "name": "stdout",
     "output_type": "stream",
     "text": [
      "new best_score: -61.611526108945874\n",
      "-720.375536225873\n"
     ]
    },
    {
     "name": "stderr",
     "output_type": "stream",
     "text": [
      "MovieWriter PillowWriter unavailable; trying to use <class 'matplotlib.animation.PillowWriter'> instead.\n"
     ]
    },
    {
     "name": "stdout",
     "output_type": "stream",
     "text": [
      "new best_score: -60.84233747234462\n",
      "-421.42523443225986\n"
     ]
    },
    {
     "name": "stderr",
     "output_type": "stream",
     "text": [
      "MovieWriter PillowWriter unavailable; trying to use <class 'matplotlib.animation.PillowWriter'> instead.\n"
     ]
    },
    {
     "name": "stdout",
     "output_type": "stream",
     "text": [
      "new best_score: -60.4678682386242\n",
      "-571.3783494785995\n"
     ]
    },
    {
     "name": "stderr",
     "output_type": "stream",
     "text": [
      "MovieWriter PillowWriter unavailable; trying to use <class 'matplotlib.animation.PillowWriter'> instead.\n"
     ]
    },
    {
     "name": "stdout",
     "output_type": "stream",
     "text": [
      "new best_score: -59.79717252938359\n",
      "-712.1438600497164\n"
     ]
    },
    {
     "name": "stderr",
     "output_type": "stream",
     "text": [
      "MovieWriter PillowWriter unavailable; trying to use <class 'matplotlib.animation.PillowWriter'> instead.\n"
     ]
    },
    {
     "name": "stdout",
     "output_type": "stream",
     "text": [
      "new best_score: -58.05225699803769\n",
      "-553.7092246930978\n"
     ]
    },
    {
     "name": "stderr",
     "output_type": "stream",
     "text": [
      "MovieWriter PillowWriter unavailable; trying to use <class 'matplotlib.animation.PillowWriter'> instead.\n"
     ]
    },
    {
     "name": "stdout",
     "output_type": "stream",
     "text": [
      "new best_score: -57.74199229755687\n",
      "-420.21496400584823\n"
     ]
    },
    {
     "name": "stderr",
     "output_type": "stream",
     "text": [
      "MovieWriter PillowWriter unavailable; trying to use <class 'matplotlib.animation.PillowWriter'> instead.\n"
     ]
    },
    {
     "name": "stdout",
     "output_type": "stream",
     "text": [
      "Episode 110\tAverage Score: -54.70 Epsilon: 0.5761543988830038\n",
      "new best_score: -54.70022556531533\n",
      "-1135.6659621137244\n"
     ]
    },
    {
     "name": "stderr",
     "output_type": "stream",
     "text": [
      "MovieWriter PillowWriter unavailable; trying to use <class 'matplotlib.animation.PillowWriter'> instead.\n"
     ]
    },
    {
     "name": "stdout",
     "output_type": "stream",
     "text": [
      "new best_score: -54.40199865603031\n",
      "-707.6943866519838\n"
     ]
    },
    {
     "name": "stderr",
     "output_type": "stream",
     "text": [
      "MovieWriter PillowWriter unavailable; trying to use <class 'matplotlib.animation.PillowWriter'> instead.\n"
     ]
    },
    {
     "name": "stdout",
     "output_type": "stream",
     "text": [
      "new best_score: -51.322786920659425\n",
      "-1427.2381946713444\n"
     ]
    },
    {
     "name": "stderr",
     "output_type": "stream",
     "text": [
      "MovieWriter PillowWriter unavailable; trying to use <class 'matplotlib.animation.PillowWriter'> instead.\n"
     ]
    },
    {
     "name": "stdout",
     "output_type": "stream",
     "text": [
      "new best_score: -50.155687904751495\n",
      "-473.84246139525\n"
     ]
    },
    {
     "name": "stderr",
     "output_type": "stream",
     "text": [
      "MovieWriter PillowWriter unavailable; trying to use <class 'matplotlib.animation.PillowWriter'> instead.\n"
     ]
    },
    {
     "name": "stdout",
     "output_type": "stream",
     "text": [
      "new best_score: -48.12412212640155\n",
      "-745.0183361026548\n"
     ]
    },
    {
     "name": "stderr",
     "output_type": "stream",
     "text": [
      "MovieWriter PillowWriter unavailable; trying to use <class 'matplotlib.animation.PillowWriter'> instead.\n"
     ]
    },
    {
     "name": "stdout",
     "output_type": "stream",
     "text": [
      "new best_score: -47.28252450888253\n",
      "-608.6564211642014\n"
     ]
    },
    {
     "name": "stderr",
     "output_type": "stream",
     "text": [
      "MovieWriter PillowWriter unavailable; trying to use <class 'matplotlib.animation.PillowWriter'> instead.\n"
     ]
    },
    {
     "name": "stdout",
     "output_type": "stream",
     "text": [
      "new best_score: -47.146466240312186\n",
      "-789.6799114027277\n"
     ]
    },
    {
     "name": "stderr",
     "output_type": "stream",
     "text": [
      "MovieWriter PillowWriter unavailable; trying to use <class 'matplotlib.animation.PillowWriter'> instead.\n"
     ]
    },
    {
     "name": "stdout",
     "output_type": "stream",
     "text": [
      "new best_score: -46.97088838852148\n",
      "-589.7974864551668\n"
     ]
    },
    {
     "name": "stderr",
     "output_type": "stream",
     "text": [
      "MovieWriter PillowWriter unavailable; trying to use <class 'matplotlib.animation.PillowWriter'> instead.\n"
     ]
    },
    {
     "name": "stdout",
     "output_type": "stream",
     "text": [
      "Episode 120\tAverage Score: -46.47 Epsilon: 0.547986285490042\n",
      "new best_score: -46.47309615543024\n",
      "-459.77336720864463\n"
     ]
    },
    {
     "name": "stderr",
     "output_type": "stream",
     "text": [
      "MovieWriter PillowWriter unavailable; trying to use <class 'matplotlib.animation.PillowWriter'> instead.\n"
     ]
    },
    {
     "name": "stdout",
     "output_type": "stream",
     "text": [
      "new best_score: -45.851181997986075\n",
      "-893.2288091982017\n"
     ]
    },
    {
     "name": "stderr",
     "output_type": "stream",
     "text": [
      "MovieWriter PillowWriter unavailable; trying to use <class 'matplotlib.animation.PillowWriter'> instead.\n"
     ]
    },
    {
     "name": "stdout",
     "output_type": "stream",
     "text": [
      "new best_score: -44.53815949683184\n",
      "-469.8360803956276\n"
     ]
    },
    {
     "name": "stderr",
     "output_type": "stream",
     "text": [
      "MovieWriter PillowWriter unavailable; trying to use <class 'matplotlib.animation.PillowWriter'> instead.\n"
     ]
    },
    {
     "name": "stdout",
     "output_type": "stream",
     "text": [
      "new best_score: -41.50829196955724\n",
      "-1440.8194273184724\n"
     ]
    },
    {
     "name": "stderr",
     "output_type": "stream",
     "text": [
      "MovieWriter PillowWriter unavailable; trying to use <class 'matplotlib.animation.PillowWriter'> instead.\n"
     ]
    },
    {
     "name": "stdout",
     "output_type": "stream",
     "text": [
      "new best_score: -41.06049920299249\n",
      "-594.0992049017075\n"
     ]
    },
    {
     "name": "stderr",
     "output_type": "stream",
     "text": [
      "MovieWriter PillowWriter unavailable; trying to use <class 'matplotlib.animation.PillowWriter'> instead.\n"
     ]
    },
    {
     "name": "stdout",
     "output_type": "stream",
     "text": [
      "new best_score: -39.60206363636117\n",
      "-1219.7735189678524\n"
     ]
    },
    {
     "name": "stderr",
     "output_type": "stream",
     "text": [
      "MovieWriter PillowWriter unavailable; trying to use <class 'matplotlib.animation.PillowWriter'> instead.\n"
     ]
    },
    {
     "name": "stdout",
     "output_type": "stream",
     "text": [
      "new best_score: -38.85219422373837\n",
      "-501.30697957125045\n"
     ]
    },
    {
     "name": "stderr",
     "output_type": "stream",
     "text": [
      "MovieWriter PillowWriter unavailable; trying to use <class 'matplotlib.animation.PillowWriter'> instead.\n"
     ]
    },
    {
     "name": "stdout",
     "output_type": "stream",
     "text": [
      "new best_score: -38.32428713709547\n",
      "-482.64397187449856\n"
     ]
    },
    {
     "name": "stderr",
     "output_type": "stream",
     "text": [
      "MovieWriter PillowWriter unavailable; trying to use <class 'matplotlib.animation.PillowWriter'> instead.\n"
     ]
    },
    {
     "name": "stdout",
     "output_type": "stream",
     "text": [
      "Episode 130\tAverage Score: -36.68 Epsilon: 0.5211953074858876\n",
      "new best_score: -36.67759449330733\n",
      "-707.1287434412413\n"
     ]
    },
    {
     "name": "stderr",
     "output_type": "stream",
     "text": [
      "MovieWriter PillowWriter unavailable; trying to use <class 'matplotlib.animation.PillowWriter'> instead.\n"
     ]
    },
    {
     "name": "stdout",
     "output_type": "stream",
     "text": [
      "new best_score: -35.22092187315084\n",
      "-769.4911150617999\n"
     ]
    },
    {
     "name": "stderr",
     "output_type": "stream",
     "text": [
      "MovieWriter PillowWriter unavailable; trying to use <class 'matplotlib.animation.PillowWriter'> instead.\n"
     ]
    },
    {
     "name": "stdout",
     "output_type": "stream",
     "text": [
      "new best_score: -34.93830570468403\n",
      "-456.02093534789884\n"
     ]
    },
    {
     "name": "stderr",
     "output_type": "stream",
     "text": [
      "MovieWriter PillowWriter unavailable; trying to use <class 'matplotlib.animation.PillowWriter'> instead.\n"
     ]
    },
    {
     "name": "stdout",
     "output_type": "stream",
     "text": [
      "new best_score: -33.46426212376239\n",
      "-488.1470588750318\n"
     ]
    },
    {
     "name": "stderr",
     "output_type": "stream",
     "text": [
      "MovieWriter PillowWriter unavailable; trying to use <class 'matplotlib.animation.PillowWriter'> instead.\n"
     ]
    },
    {
     "name": "stdout",
     "output_type": "stream",
     "text": [
      "new best_score: -33.252215250050824\n",
      "-437.5049696306384\n"
     ]
    },
    {
     "name": "stderr",
     "output_type": "stream",
     "text": [
      "MovieWriter PillowWriter unavailable; trying to use <class 'matplotlib.animation.PillowWriter'> instead.\n"
     ]
    },
    {
     "name": "stdout",
     "output_type": "stream",
     "text": [
      "new best_score: -32.0305381428225\n",
      "-1584.662909350544\n"
     ]
    },
    {
     "name": "stderr",
     "output_type": "stream",
     "text": [
      "MovieWriter PillowWriter unavailable; trying to use <class 'matplotlib.animation.PillowWriter'> instead.\n"
     ]
    },
    {
     "name": "stdout",
     "output_type": "stream",
     "text": [
      "new best_score: -28.255393524351817\n",
      "-648.9447957822756\n"
     ]
    },
    {
     "name": "stderr",
     "output_type": "stream",
     "text": [
      "MovieWriter PillowWriter unavailable; trying to use <class 'matplotlib.animation.PillowWriter'> instead.\n"
     ]
    },
    {
     "name": "stdout",
     "output_type": "stream",
     "text": [
      "new best_score: -25.952843977690303\n",
      "-438.54167795428975\n"
     ]
    },
    {
     "name": "stderr",
     "output_type": "stream",
     "text": [
      "MovieWriter PillowWriter unavailable; trying to use <class 'matplotlib.animation.PillowWriter'> instead.\n"
     ]
    },
    {
     "name": "stdout",
     "output_type": "stream",
     "text": [
      "new best_score: -25.421050505420222\n",
      "-601.368020261646\n"
     ]
    },
    {
     "name": "stderr",
     "output_type": "stream",
     "text": [
      "MovieWriter PillowWriter unavailable; trying to use <class 'matplotlib.animation.PillowWriter'> instead.\n"
     ]
    },
    {
     "name": "stdout",
     "output_type": "stream",
     "text": [
      "new best_score: -24.543443173918714\n",
      "-634.5627609908857\n"
     ]
    },
    {
     "name": "stderr",
     "output_type": "stream",
     "text": [
      "MovieWriter PillowWriter unavailable; trying to use <class 'matplotlib.animation.PillowWriter'> instead.\n"
     ]
    },
    {
     "name": "stdout",
     "output_type": "stream",
     "text": [
      "Episode 140\tAverage Score: -24.67 Epsilon: 0.49571413690105054\n",
      "new best_score: -22.579326775838176\n",
      "-486.9515357404682\n"
     ]
    },
    {
     "name": "stderr",
     "output_type": "stream",
     "text": [
      "MovieWriter PillowWriter unavailable; trying to use <class 'matplotlib.animation.PillowWriter'> instead.\n"
     ]
    },
    {
     "name": "stdout",
     "output_type": "stream",
     "text": [
      "new best_score: -22.112098844581624\n",
      "-343.42780480799627\n"
     ]
    },
    {
     "name": "stderr",
     "output_type": "stream",
     "text": [
      "MovieWriter PillowWriter unavailable; trying to use <class 'matplotlib.animation.PillowWriter'> instead.\n"
     ]
    },
    {
     "name": "stdout",
     "output_type": "stream",
     "text": [
      "new best_score: -21.390629428142642\n",
      "-612.7517915346037\n"
     ]
    },
    {
     "name": "stderr",
     "output_type": "stream",
     "text": [
      "MovieWriter PillowWriter unavailable; trying to use <class 'matplotlib.animation.PillowWriter'> instead.\n"
     ]
    },
    {
     "name": "stdout",
     "output_type": "stream",
     "text": [
      "new best_score: -20.608142682841358\n",
      "-467.7992410950261\n"
     ]
    },
    {
     "name": "stderr",
     "output_type": "stream",
     "text": [
      "MovieWriter PillowWriter unavailable; trying to use <class 'matplotlib.animation.PillowWriter'> instead.\n"
     ]
    }
   ],
   "source": [
    "import time\n",
    "from tqdm import tqdm\n",
    "starttime=time.time()\n",
    "scores = []                        # list containing scores from each episode\n",
    "scores_window = deque(maxlen=100)  # last 100 scores\n",
    "n_episodes=20000\n",
    "agent=DQNAgent()\n",
    "\n",
    "max_t=1000\n",
    "eps_start=1.0\n",
    "eps_end=0.2\n",
    "eps_decay=0.995\n",
    "\n",
    "eps = eps_start\n",
    "env=gym.make('LunarLander-v2')\n",
    "eps_history=[]\n",
    "best_score=-9999\n",
    "for i_episode in range(1, n_episodes+1):\n",
    "    state = env.reset()\n",
    "    score = 0\n",
    "    for i_ in range(1,max_t+1):\n",
    "        action = agent.play(state,eps)\n",
    "        next_state, reward, done, _ = env.step(action)\n",
    "        if reward==-100:\n",
    "            reward=-35\n",
    "        if reward==100:\n",
    "            reward=35\n",
    "        agent.step(state, action, reward, next_state, done)\n",
    "        \n",
    "        state = next_state\n",
    "        score += reward\n",
    "        if done:\n",
    "            break \n",
    "    scores_window.append(score)       # save most recent score\n",
    "    scores.append(score)              # save most recent score\n",
    "    eps = max(eps_end, eps_decay*eps)\n",
    "    eps_history.append(eps)\n",
    "    if i_episode % 10 == 0:\n",
    "            print('\\rEpisode {}\\tAverage Score: {:.2f} Epsilon: {}'.format(i_episode, np.mean(scores_window),eps))\n",
    "#             agent.policy.save(\"weightsfolder/policy_.h5\")\n",
    "    if np.mean(scores_window)>=best_score:\n",
    "        best_score=np.mean(scores_window)\n",
    "        print(\"new best_score: {}\".format(best_score))\n",
    "        gen_gif(agent,i_episode)\n",
    "#         agent.policy.save(\"/anotherdrive/projects/gym/lunar/notefiles/weights/lunar_{}_.h5\".format(i_episode))\n",
    "    if np.mean(scores_window)>=190.0:\n",
    "            print('\\nEnvironment solved in {:d} episodes!\\tAverage Score: {:.2f}'.format(i_episode-100, np.mean(scores_window)))\n",
    "            \n",
    "            break\n",
    "endtime= time.time() \n",
    "print(endtime-starttime)\n",
    "fig = plt.figure()\n",
    "ax = fig.add_subplot(111)\n",
    "plt.plot(np.arange(len(scores)), scores)\n",
    "plt.ylabel('Score')\n",
    "plt.xlabel('Episode #')\n",
    "plt.show()"
   ]
  },
  {
   "cell_type": "code",
   "execution_count": 30,
   "metadata": {},
   "outputs": [
    {
     "data": {
      "text/plain": [
       "<matplotlib.axes._subplots.AxesSubplot at 0x7f562342ee80>"
      ]
     },
     "execution_count": 30,
     "metadata": {},
     "output_type": "execute_result"
    },
    {
     "data": {
      "image/png": "[encoded data removed]",
      "text/plain": [
       "<Figure size 432x288 with 1 Axes>"
      ]
     },
     "metadata": {
      "needs_background": "light"
     },
     "output_type": "display_data"
    }
   ],
   "source": [
    "import pandas as pd\n",
    "pd.Series(scores_window).plot()"
   ]
  },
  {
   "cell_type": "code",
   "execution_count": 20,
   "metadata": {},
   "outputs": [
    {
     "data": {
      "text/plain": [
       "0.2"
      ]
     },
     "execution_count": 20,
     "metadata": {},
     "output_type": "execute_result"
    }
   ],
   "source": [
    "eps"
   ]
  },
  {
   "cell_type": "code",
   "execution_count": 22,
   "metadata": {},
   "outputs": [
    {
     "name": "stdout",
     "output_type": "stream",
     "text": [
      "-442.5314538627641\n"
     ]
    },
    {
     "data": {
      "image/png": "[encoded data removed]",
      "text/plain": [
       "<Figure size 432x288 with 1 Axes>"
      ]
     },
     "metadata": {
      "needs_background": "light"
     },
     "output_type": "display_data"
    }
   ],
   "source": [
    "import matplotlib.animation as animation\n",
    "# import matplotlib.pyplot as plt\n",
    "# %matplotlib inline\n",
    "# def gen_gif(agent,fname):\n",
    "#     env = gym.make('LunarLander-v2')\n",
    "    # env = gym.wrappers.Monitor(env,\"/anotherdrive/projects/gym/lunar/notefiles/test\",force=True)\n",
    "action_space = env.action_space.n\n",
    "observation_space = env.observation_space.shape[0]\n",
    "\n",
    "scores = []\n",
    "\n",
    "rewards=[]\n",
    "\n",
    "state = env.reset()\n",
    "cum_reward = 0\n",
    "frames = []\n",
    "fig = plt.figure()\n",
    "\n",
    "while True:\n",
    "    f=plt.imshow(env.render(mode = 'rgb_array'),animated=True)\n",
    "    frames.append([f])\n",
    "\n",
    "#         q_values = agent.get_q(obs)\n",
    "    action = agent.play(state,0)\n",
    "\n",
    "    obs, reward, done, _ = env.step(action)\n",
    "#             print(t,action,reward)\n",
    "    cum_reward += reward\n",
    "#     print(reward)\n",
    "    rewards.append(reward)\n",
    "#     print(done)\n",
    "    if done:\n",
    "        break\n",
    "scores.append(cum_reward)\n",
    "env.close()\n",
    "print(cum_reward)    \n",
    "# ani = animation.ArtistAnimation(fig, frames, interval=200, blit=True,\n",
    "#                             repeat_delay=0)\n",
    "\n",
    "# ani.save('/anotherdrive/projects/gym/lunar/dqnote/gifs/lunar_{}_.gif'.format(fname),writer=\"PillowWriter\")\n",
    "# plt.close()\n",
    "#     plt.show()"
   ]
  },
  {
   "cell_type": "code",
   "execution_count": null,
   "metadata": {},
   "outputs": [],
   "source": []
  }
 ],
 "metadata": {
  "kernelspec": {
   "display_name": "Python 3",
   "language": "python",
   "name": "python3"
  },
  "language_info": {
   "codemirror_mode": {
    "name": "ipython",
    "version": 3
   },
   "file_extension": ".py",
   "mimetype": "text/x-python",
   "name": "python",
   "nbconvert_exporter": "python",
   "pygments_lexer": "ipython3",
   "version": "3.6.10"
  }
 },
 "nbformat": 4,
 "nbformat_minor": 2
}
