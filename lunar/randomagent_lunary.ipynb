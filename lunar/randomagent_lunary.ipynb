{
 "cells": [
  {
   "cell_type": "code",
   "execution_count": 1,
   "metadata": {},
   "outputs": [],
   "source": [
    "import gym"
   ]
  },
  {
   "cell_type": "code",
   "execution_count": 2,
   "metadata": {},
   "outputs": [
    {
     "data": {
      "text/plain": [
       "'newLine gui'"
      ]
     },
     "execution_count": 2,
     "metadata": {},
     "output_type": "execute_result"
    }
   ],
   "source": [
    "\"newLine gui\""
   ]
  },
  {
   "cell_type": "code",
   "execution_count": 3,
   "metadata": {},
   "outputs": [],
   "source": [
    "env = gym.make('LunarLander-v2')"
   ]
  },
  {
   "cell_type": "code",
   "execution_count": 4,
   "metadata": {},
   "outputs": [
    {
     "data": {
      "text/plain": [
       "(4, 8)"
      ]
     },
     "execution_count": 4,
     "metadata": {},
     "output_type": "execute_result"
    }
   ],
   "source": [
    "action_space = env.action_space.n\n",
    "observation_space = env.observation_space.shape[0]\n",
    "action_space,observation_space"
   ]
  },
  {
   "cell_type": "code",
   "execution_count": 5,
   "metadata": {
    "scrolled": true
   },
   "outputs": [
    {
     "name": "stdout",
     "output_type": "stream",
     "text": [
      "-168.15043360700363\n"
     ]
    }
   ],
   "source": [
    "import matplotlib.animation as animation\n",
    "\n",
    "env = gym.make('LunarLander-v2')\n",
    "env = gym.wrappers.Monitor(env,\"/anotherdrive/projects/gym/lunar/notefiles/test\",force=True)\n",
    "action_space = env.action_space.n\n",
    "observation_space = env.observation_space.shape[0]\n",
    "\n",
    "scores = []\n",
    "\n",
    "rewards=[]\n",
    "\n",
    "obs = env.reset()\n",
    "cum_reward = 0\n",
    "frames = []\n",
    "# fig = plt.figure()\n",
    "#         obs = env.reset()\n",
    "#         episode_reward = 0\n",
    "while True:\n",
    "    # f=plt.imshow(env.render(mode = 'rgb_array'),animated=True)\n",
    "    # frames.append([f])\n",
    "\n",
    "#         q_values = agent.get_q(obs)\n",
    "    action = env.action_space.sample()\n",
    "\n",
    "    obs, reward, done, _ = env.step(action)\n",
    "#             print(t,action,reward)\n",
    "    cum_reward += reward\n",
    "#     print(reward)\n",
    "    rewards.append(reward)\n",
    "#     print(done)\n",
    "    if done:\n",
    "        break\n",
    "scores.append(cum_reward)\n",
    "env.close()\n",
    "print(cum_reward)"
   ]
  },
  {
   "cell_type": "code",
   "execution_count": 6,
   "metadata": {},
   "outputs": [
    {
     "name": "stdout",
     "output_type": "stream",
     "text": [
      "-154.814584361554\n"
     ]
    },
    {
     "data": {
      "image/png": "[encoded data removed]",
      "text/plain": [
       "<Figure size 432x288 with 1 Axes>"
      ]
     },
     "metadata": {
      "needs_background": "light"
     },
     "output_type": "display_data"
    }
   ],
   "source": [
    "import matplotlib.animation as animation\n",
    "import matplotlib.pyplot as plt\n",
    "%matplotlib inline\n",
    "\n",
    "env = gym.make('LunarLander-v2')\n",
    "# env = gym.wrappers.Monitor(env,\"/anotherdrive/projects/gym/lunar/notefiles/test\",force=True)\n",
    "action_space = env.action_space.n\n",
    "observation_space = env.observation_space.shape[0]\n",
    "\n",
    "scores = []\n",
    "\n",
    "rewards=[]\n",
    "\n",
    "obs = env.reset()\n",
    "cum_reward = 0\n",
    "frames = []\n",
    "fig = plt.figure()\n",
    "#         obs = env.reset()\n",
    "#         episode_reward = 0\n",
    "while True:\n",
    "    f=plt.imshow(env.render(mode = 'rgb_array'),animated=True)\n",
    "    frames.append([f])\n",
    "\n",
    "#         q_values = agent.get_q(obs)\n",
    "    action = env.action_space.sample()\n",
    "\n",
    "    obs, reward, done, _ = env.step(action)\n",
    "#             print(t,action,reward)\n",
    "    cum_reward += reward\n",
    "#     print(reward)\n",
    "    rewards.append(reward)\n",
    "#     print(done)\n",
    "    if done:\n",
    "        break\n",
    "scores.append(cum_reward)\n",
    "env.close()\n",
    "print(cum_reward)"
   ]
  },
  {
   "cell_type": "code",
   "execution_count": 8,
   "metadata": {},
   "outputs": [
    {
     "name": "stderr",
     "output_type": "stream",
     "text": [
      "MovieWriter PillowWriter unavailable; trying to use <class 'matplotlib.animation.PillowWriter'> instead.\n"
     ]
    }
   ],
   "source": [
    "ani = animation.ArtistAnimation(fig, frames, interval=200, blit=True,\n",
    "                                repeat_delay=0)\n",
    "\n",
    "ani.save('lunar_random_.gif',writer=\"PillowWriter\")\n",
    "plt.show()"
   ]
  },
  {
   "cell_type": "code",
   "execution_count": null,
   "metadata": {},
   "outputs": [],
   "source": []
  }
 ],
 "metadata": {
  "kernelspec": {
   "display_name": "Python 3",
   "language": "python",
   "name": "python3"
  },
  "language_info": {
   "codemirror_mode": {
    "name": "ipython",
    "version": 3
   },
   "file_extension": ".py",
   "mimetype": "text/x-python",
   "name": "python",
   "nbconvert_exporter": "python",
   "pygments_lexer": "ipython3",
   "version": "3.6.10"
  }
 },
 "nbformat": 4,
 "nbformat_minor": 4
}
